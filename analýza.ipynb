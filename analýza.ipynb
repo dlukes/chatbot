{
 "cells": [
  {
   "cell_type": "markdown",
   "metadata": {},
   "source": [
    "# Analýza dat zaznamenaných aplikací\n",
    "\n",
    "Webová aplikace zaznamenává data do SQLite3 databáze `chatbot.db`. Základní informace o tom, jaké tabulky databáze obsahuje, si můžeme zobrazit pomocí programu pro příkazovou řádku `sqlite3`. Ten můžeme přímo z notebooku spustit tak, že před příkaz napíšeme `!`, a místo Pythonu ho zpracuje příkazová řádka:"
   ]
  },
  {
   "cell_type": "code",
   "execution_count": null,
   "metadata": {},
   "outputs": [],
   "source": [
    "# chatbot.db je cesta k souboru z databází; .schema je dotaz, který databázi\n",
    "# pokládáme (jeho význam je přibližně \"vypiš mi všechny tabulky v databázi\")\n",
    "!sqlite3 chatbot.db .schema"
   ]
  },
  {
   "cell_type": "markdown",
   "metadata": {},
   "source": [
    "V databázi jsou zdá se dvě tabulky, `user` a `turn`, každá obsahuje různé sloupce, v nichž jsou zaznamenané interakce s chatbotem. Následuje pár tipů, jak tyto tabulky načíst do Pythonu pomocí knihovny `pandas` a dál s nimi pracovat."
   ]
  },
  {
   "cell_type": "code",
   "execution_count": null,
   "metadata": {},
   "outputs": [],
   "source": [
    "import pandas as pd"
   ]
  },
  {
   "cell_type": "code",
   "execution_count": null,
   "metadata": {},
   "outputs": [],
   "source": [
    "db = \"sqlite:///chatbot.db\""
   ]
  },
  {
   "cell_type": "code",
   "execution_count": null,
   "metadata": {},
   "outputs": [],
   "source": [
    "users = pd.read_sql(\"user\", db)\n",
    "users"
   ]
  },
  {
   "cell_type": "code",
   "execution_count": null,
   "metadata": {},
   "outputs": [],
   "source": [
    "users.info()"
   ]
  },
  {
   "cell_type": "code",
   "execution_count": null,
   "metadata": {},
   "outputs": [],
   "source": [
    "turns = pd.read_sql(\"turn\", db)\n",
    "turns"
   ]
  },
  {
   "cell_type": "code",
   "execution_count": null,
   "metadata": {},
   "outputs": [],
   "source": [
    "turns.info()"
   ]
  },
  {
   "cell_type": "code",
   "execution_count": null,
   "metadata": {},
   "outputs": [],
   "source": [
    "# uživatel: počet replik v rozhovoru\n",
    "turns.groupby(\"user_id\").count()[\"text\"].to_dict()"
   ]
  },
  {
   "cell_type": "code",
   "execution_count": null,
   "metadata": {},
   "outputs": [],
   "source": [
    "# kolik vteřin po předcházející replice přichází následující?\n",
    "turns[\"wait_before_reply\"] = turns.groupby(\"user_id\")[\"date\"].diff().dt.total_seconds()\n",
    "turns"
   ]
  },
  {
   "cell_type": "code",
   "execution_count": null,
   "metadata": {},
   "outputs": [],
   "source": [
    "# jen uživatel č. 1\n",
    "turns.loc[turns[\"user_id\"] == 1, :]"
   ]
  },
  {
   "cell_type": "code",
   "execution_count": null,
   "metadata": {},
   "outputs": [],
   "source": [
    "# stejný výsledek jako výše, jen pomocí speciálního dotazovacího jazyka,\n",
    "# který někomu lépe vyhovuje\n",
    "turns.query(\"user_id == 1\")"
   ]
  },
  {
   "cell_type": "code",
   "execution_count": null,
   "metadata": {},
   "outputs": [],
   "source": [
    "# chatbot (nepřekvapivě) reaguje téměř okamžitě\n",
    "turns.query(\"by_user == False\")"
   ]
  },
  {
   "cell_type": "code",
   "execution_count": null,
   "metadata": {},
   "outputs": [],
   "source": [
    "# uživatel naopak ne nutně\n",
    "turns.query(\"by_user == True\")"
   ]
  },
  {
   "cell_type": "code",
   "execution_count": null,
   "metadata": {},
   "outputs": [],
   "source": [
    "# exportovat pro další práci v Excelu\n",
    "turns.to_excel(\"turns.xlsx\", index=False)"
   ]
  }
 ],
 "metadata": {
  "kernelspec": {
   "display_name": "Python 3",
   "language": "python",
   "name": "python3"
  },
  "language_info": {
   "codemirror_mode": {
    "name": "ipython",
    "version": 3
   },
   "file_extension": ".py",
   "mimetype": "text/x-python",
   "name": "python",
   "nbconvert_exporter": "python",
   "pygments_lexer": "ipython3",
   "version": "3.8.3"
  }
 },
 "nbformat": 4,
 "nbformat_minor": 4
}
